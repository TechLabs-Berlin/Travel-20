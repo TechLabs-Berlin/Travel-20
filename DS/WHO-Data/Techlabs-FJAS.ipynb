{
 "cells": [
  {
   "cell_type": "code",
   "execution_count": null,
   "metadata": {},
   "outputs": [],
   "source": [
    "import pandas as pd\n",
    "import requests\n",
    "import csv\n",
    "from sklearn.cluster import KMeans\n",
    "from matplotlib import pyplot as plt\n",
    "req = requests.get('https://covid19.who.int/WHO-COVID-19-global-table-data.csv')\n",
    "url_content = req.content\n",
    "csv_file = open('downloaded.csv', 'wb')\n",
    "csv_file.write(url_content)\n",
    "csv_file.close()\n",
    "df1 = pd.read_csv('downloaded.csv')\n",
    "df1 = df1.drop([0])\n",
    "names = df1['Name']\n",
    "transmission = df1['Transmission Classification']\n",
    "df1 = df1.drop(columns=['Name','WHO Region','Cases - newly reported in last 7 days','Cases - cumulative total per 100000 population','Cases - newly reported in last 24 hours','Deaths - cumulative total per 100000 population','Deaths - newly reported in last 7 days','Deaths - newly reported in last 24 hours','Transmission Classification'])\n",
    "df1 = df1.rename(columns={'Cases - cumulative total' : 'Cases','Cases - newly reported in last 7 days per 100000 population' : 'Cases7D100K', 'Deaths - cumulative total': 'Deaths', 'Deaths - newly reported in last 7 days per 100000 population': 'Deaths7D100K'}) \n",
    "df1 = df1.dropna(axis = 0)\n",
    "model = KMeans()\n",
    "model.fit(df1)\n",
    "labels = model.predict(df1)",
    "df1['Label'] = labels\n",
    "df1['Name'] = names\n",
    "df1['Transmission Classification'] = transmission\n",
    "x1 = df1['Deaths']\n",
    "y1 = df1['Cases']\n",
    "plt.xlabel('Total Deaths')\n",
    "plt.ylabel('Total Cases in Millions')\n",
    "plt.scatter(x1,y1, c=labels)\n",
    "df1.to_csv('DF1.csv' , index = False )"
   ]
  }
 ],
 "metadata": {
  "kernelspec": {
   "display_name": "Python 3",
   "language": "python",
   "name": "python3"
  },
  "language_info": {
   "codemirror_mode": {
    "name": "ipython",
    "version": 3
   },
   "file_extension": ".py",
   "mimetype": "text/x-python",
   "name": "python",
   "nbconvert_exporter": "python",
   "pygments_lexer": "ipython3",
   "version": "3.8.3"
  }
 },
 "nbformat": 4,
 "nbformat_minor": 4
}
